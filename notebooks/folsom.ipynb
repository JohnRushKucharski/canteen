{
 "cells": [
  {
   "cell_type": "markdown",
   "metadata": {},
   "source": [
    "# Folsom\n",
    "\n",
    "Simple test case simulates folsom dam operations from 1 Oct 2000 - 30 Sept 2010 using simple rule curve, maximum flood release. Conservation pool demands are from outflow data when the reservoir storage is below top of conservation. Evaporation data is used to better fit observations."
   ]
  },
  {
   "cell_type": "code",
   "execution_count": 1,
   "metadata": {},
   "outputs": [],
   "source": [
    "from pathlib import Path\n",
    "import pandas as pd"
   ]
  },
  {
   "cell_type": "code",
   "execution_count": 2,
   "metadata": {},
   "outputs": [],
   "source": [
    "data_dir = Path(r\"c:\\Users\\kucharsk\\OneDrive - Stichting Deltares\\Documents\\projects\\ribasim\\folsom\")"
   ]
  },
  {
   "cell_type": "code",
   "execution_count": 3,
   "metadata": {},
   "outputs": [
    {
     "data": {
      "text/html": [
       "<div>\n",
       "<style scoped>\n",
       "    .dataframe tbody tr th:only-of-type {\n",
       "        vertical-align: middle;\n",
       "    }\n",
       "\n",
       "    .dataframe tbody tr th {\n",
       "        vertical-align: top;\n",
       "    }\n",
       "\n",
       "    .dataframe thead th {\n",
       "        text-align: right;\n",
       "    }\n",
       "</style>\n",
       "<table border=\"1\" class=\"dataframe\">\n",
       "  <thead>\n",
       "    <tr style=\"text-align: right;\">\n",
       "      <th></th>\n",
       "      <th>inflow_cfs</th>\n",
       "      <th>storage_af</th>\n",
       "      <th>outflow_cfs</th>\n",
       "      <th>evap_cfs</th>\n",
       "    </tr>\n",
       "    <tr>\n",
       "      <th>DATE TIME</th>\n",
       "      <th></th>\n",
       "      <th></th>\n",
       "      <th></th>\n",
       "      <th></th>\n",
       "    </tr>\n",
       "  </thead>\n",
       "  <tbody>\n",
       "    <tr>\n",
       "      <th>2000-10-01</th>\n",
       "      <td>1107.0</td>\n",
       "      <td>659258</td>\n",
       "      <td>1849.0</td>\n",
       "      <td>9</td>\n",
       "    </tr>\n",
       "    <tr>\n",
       "      <th>2000-10-02</th>\n",
       "      <td>1432.0</td>\n",
       "      <td>658149</td>\n",
       "      <td>1991.0</td>\n",
       "      <td>0</td>\n",
       "    </tr>\n",
       "    <tr>\n",
       "      <th>2000-10-03</th>\n",
       "      <td>1357.0</td>\n",
       "      <td>656208</td>\n",
       "      <td>2327.0</td>\n",
       "      <td>9</td>\n",
       "    </tr>\n",
       "    <tr>\n",
       "      <th>2000-10-04</th>\n",
       "      <td>631.0</td>\n",
       "      <td>653436</td>\n",
       "      <td>2020.0</td>\n",
       "      <td>9</td>\n",
       "    </tr>\n",
       "    <tr>\n",
       "      <th>2000-10-05</th>\n",
       "      <td>908.0</td>\n",
       "      <td>651034</td>\n",
       "      <td>2110.0</td>\n",
       "      <td>9</td>\n",
       "    </tr>\n",
       "  </tbody>\n",
       "</table>\n",
       "</div>"
      ],
      "text/plain": [
       "            inflow_cfs  storage_af  outflow_cfs  evap_cfs\n",
       "DATE TIME                                                \n",
       "2000-10-01      1107.0      659258       1849.0         9\n",
       "2000-10-02      1432.0      658149       1991.0         0\n",
       "2000-10-03      1357.0      656208       2327.0         9\n",
       "2000-10-04       631.0      653436       2020.0         9\n",
       "2000-10-05       908.0      651034       2110.0         9"
      ]
     },
     "execution_count": 3,
     "metadata": {},
     "output_type": "execute_result"
    }
   ],
   "source": [
    "inflows = pd.read_excel(data_dir / \"inflows_daily-2000-2010.xlsx\", engine=\"openpyxl\",\n",
    "                        index_col=\"DATE TIME\", parse_dates=True, date_format=\"%Y-%m-%d %H:%M\",\n",
    "                        usecols=[\"DATE TIME\", \"VALUE\"], thousands=\",\").rename(columns={\"VALUE\": \"inflow_cfs\"})\n",
    "storage = pd.read_excel(data_dir / \"storage_daily-2000-2010.xlsx\", engine=\"openpyxl\",\n",
    "                        index_col=\"DATE TIME\", parse_dates=True, date_format=\"%Y-%m-%d %H:%M\",\n",
    "                        usecols=[\"DATE TIME\", \"VALUE\"], thousands=\",\").rename(columns={\"VALUE\": \"storage_af\"})\n",
    "outflows = pd.read_excel(data_dir / \"outflow_daily-2000-2010.xlsx\", engine=\"openpyxl\",\n",
    "                        index_col=\"DATE TIME\", parse_dates=True, date_format=\"%Y-%m-%d %H:%M\",\n",
    "                        usecols=[\"DATE TIME\", \"VALUE\"], thousands=\",\").rename(columns={\"VALUE\": \"outflow_cfs\"})\n",
    "evap = pd.read_excel(data_dir / \"evap_daily-2000-2010.xlsx\", engine=\"openpyxl\",\n",
    "                     index_col=\"DATE TIME\", parse_dates=True, date_format=\"%Y-%m-%d %H:%M\",\n",
    "                     usecols=[\"DATE TIME\", \"VALUE\"], thousands=\",\").rename(columns={\"VALUE\": \"evap_cfs\"})\n",
    "df = inflows.join([storage, outflows, evap])\n",
    "df.head()"
   ]
  },
  {
   "cell_type": "code",
   "execution_count": 4,
   "metadata": {},
   "outputs": [
    {
     "data": {
      "text/html": [
       "<div>\n",
       "<style scoped>\n",
       "    .dataframe tbody tr th:only-of-type {\n",
       "        vertical-align: middle;\n",
       "    }\n",
       "\n",
       "    .dataframe tbody tr th {\n",
       "        vertical-align: top;\n",
       "    }\n",
       "\n",
       "    .dataframe thead th {\n",
       "        text-align: right;\n",
       "    }\n",
       "</style>\n",
       "<table border=\"1\" class=\"dataframe\">\n",
       "  <thead>\n",
       "    <tr style=\"text-align: right;\">\n",
       "      <th></th>\n",
       "      <th>inflow_cfs</th>\n",
       "      <th>storage_af</th>\n",
       "      <th>outflow_cfs</th>\n",
       "      <th>evap_cfs</th>\n",
       "    </tr>\n",
       "    <tr>\n",
       "      <th>DATE TIME</th>\n",
       "      <th></th>\n",
       "      <th></th>\n",
       "      <th></th>\n",
       "      <th></th>\n",
       "    </tr>\n",
       "  </thead>\n",
       "  <tbody>\n",
       "    <tr>\n",
       "      <th>2004-05-07</th>\n",
       "      <td>NaN</td>\n",
       "      <td>640600</td>\n",
       "      <td>NaN</td>\n",
       "      <td>64</td>\n",
       "    </tr>\n",
       "    <tr>\n",
       "      <th>2004-05-08</th>\n",
       "      <td>NaN</td>\n",
       "      <td>639800</td>\n",
       "      <td>NaN</td>\n",
       "      <td>58</td>\n",
       "    </tr>\n",
       "    <tr>\n",
       "      <th>2005-08-13</th>\n",
       "      <td>NaN</td>\n",
       "      <td>800600</td>\n",
       "      <td>NaN</td>\n",
       "      <td>115</td>\n",
       "    </tr>\n",
       "    <tr>\n",
       "      <th>2006-03-30</th>\n",
       "      <td>NaN</td>\n",
       "      <td>704800</td>\n",
       "      <td>NaN</td>\n",
       "      <td>32</td>\n",
       "    </tr>\n",
       "    <tr>\n",
       "      <th>2007-10-11</th>\n",
       "      <td>NaN</td>\n",
       "      <td>309500</td>\n",
       "      <td>NaN</td>\n",
       "      <td>15</td>\n",
       "    </tr>\n",
       "    <tr>\n",
       "      <th>2008-01-04</th>\n",
       "      <td>NaN</td>\n",
       "      <td>225800</td>\n",
       "      <td>NaN</td>\n",
       "      <td>0</td>\n",
       "    </tr>\n",
       "    <tr>\n",
       "      <th>2008-12-05</th>\n",
       "      <td>NaN</td>\n",
       "      <td>202200</td>\n",
       "      <td>NaN</td>\n",
       "      <td>4</td>\n",
       "    </tr>\n",
       "    <tr>\n",
       "      <th>2009-12-15</th>\n",
       "      <td>NaN</td>\n",
       "      <td>281100</td>\n",
       "      <td>NaN</td>\n",
       "      <td>2</td>\n",
       "    </tr>\n",
       "  </tbody>\n",
       "</table>\n",
       "</div>"
      ],
      "text/plain": [
       "            inflow_cfs  storage_af  outflow_cfs  evap_cfs\n",
       "DATE TIME                                                \n",
       "2004-05-07         NaN      640600          NaN        64\n",
       "2004-05-08         NaN      639800          NaN        58\n",
       "2005-08-13         NaN      800600          NaN       115\n",
       "2006-03-30         NaN      704800          NaN        32\n",
       "2007-10-11         NaN      309500          NaN        15\n",
       "2008-01-04         NaN      225800          NaN         0\n",
       "2008-12-05         NaN      202200          NaN         4\n",
       "2009-12-15         NaN      281100          NaN         2"
      ]
     },
     "execution_count": 4,
     "metadata": {},
     "output_type": "execute_result"
    }
   ],
   "source": [
    "df_nan = df[df.isna().any(axis=1)]\n",
    "df_nan.head(10)"
   ]
  },
  {
   "cell_type": "markdown",
   "metadata": {},
   "source": [
    "These observations are missing inflow and outflow values. Therefore, they cannot be filled in with: S_t = S_t-1 + I_t - R_t. \n",
    "\n",
    "So, the missing inflow values are interpolated from the previous good value and subsequent good value. \n",
    "\n",
    "Missing outflows (R_t) are computed as: R_t = S_t-1 - S_t + I_t."
   ]
  },
  {
   "cell_type": "code",
   "execution_count": 6,
   "metadata": {},
   "outputs": [
    {
     "data": {
      "text/html": [
       "<div>\n",
       "<style scoped>\n",
       "    .dataframe tbody tr th:only-of-type {\n",
       "        vertical-align: middle;\n",
       "    }\n",
       "\n",
       "    .dataframe tbody tr th {\n",
       "        vertical-align: top;\n",
       "    }\n",
       "\n",
       "    .dataframe thead th {\n",
       "        text-align: right;\n",
       "    }\n",
       "</style>\n",
       "<table border=\"1\" class=\"dataframe\">\n",
       "  <thead>\n",
       "    <tr style=\"text-align: right;\">\n",
       "      <th></th>\n",
       "      <th>inflow_cfs</th>\n",
       "      <th>storage_af</th>\n",
       "      <th>outflow_cfs</th>\n",
       "      <th>evap_cfs</th>\n",
       "    </tr>\n",
       "    <tr>\n",
       "      <th>DATE TIME</th>\n",
       "      <th></th>\n",
       "      <th></th>\n",
       "      <th></th>\n",
       "      <th></th>\n",
       "    </tr>\n",
       "  </thead>\n",
       "  <tbody>\n",
       "    <tr>\n",
       "      <th>2000-10-22</th>\n",
       "      <td>-112.0</td>\n",
       "      <td>594705</td>\n",
       "      <td>2276.0</td>\n",
       "      <td>9</td>\n",
       "    </tr>\n",
       "  </tbody>\n",
       "</table>\n",
       "</div>"
      ],
      "text/plain": [
       "            inflow_cfs  storage_af  outflow_cfs  evap_cfs\n",
       "DATE TIME                                                \n",
       "2000-10-22      -112.0      594705       2276.0         9"
      ]
     },
     "execution_count": 6,
     "metadata": {},
     "output_type": "execute_result"
    }
   ],
   "source": [
    "df_neg = df[(df < 0).any(axis=1)]\n",
    "df_neg.head(10)"
   ]
  },
  {
   "cell_type": "markdown",
   "metadata": {},
   "source": [
    "This value can be fixed by using: S_t = S_t-1 + I_t - R_t.\n",
    "\n",
    "Rearranged: I_t = S_t - S_t-1 + R_t"
   ]
  },
  {
   "cell_type": "code",
   "execution_count": null,
   "metadata": {},
   "outputs": [],
   "source": [
    "def is_conserving_mass(i: int, row: pd.Series):\n",
    "    previous_storage = df.iloc[i - 1][\"storage_af\"]\n",
    "    storage = previous_storage + row[\"inflow_cfs\"] - row[\"outflow_cfs\"] - row[\"evap_cfs\"]\n",
    "    return row[\"inflow_cfs\"] - row[\"outflow_cfs\"] - row[\"evap_cfs\"] == row[\"storage_af\"]"
   ]
  },
  {
   "cell_type": "code",
   "execution_count": null,
   "metadata": {},
   "outputs": [],
   "source": [
    "interpolate: bool = False\n",
    "last, next, n = 0, 0, 0\n",
    "for i, row in df.iterrows():\n",
    "    if row[\"inflow_cfs\"].isna():\n",
    "        if not interpolate:\n",
    "            n += 1\n",
    "            last = df.iloc[i - 1][\"inflow_cfs\"]\n",
    "    else:\n",
    "        if interpolate:"
   ]
  }
 ],
 "metadata": {
  "kernelspec": {
   "display_name": ".venv",
   "language": "python",
   "name": "python3"
  },
  "language_info": {
   "codemirror_mode": {
    "name": "ipython",
    "version": 3
   },
   "file_extension": ".py",
   "mimetype": "text/x-python",
   "name": "python",
   "nbconvert_exporter": "python",
   "pygments_lexer": "ipython3",
   "version": "3.12.7"
  }
 },
 "nbformat": 4,
 "nbformat_minor": 2
}
